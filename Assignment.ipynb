{
 "cells": [
  {
   "cell_type": "markdown",
   "id": "42dd5864-d46a-4987-a6de-034a6a7a55b9",
   "metadata": {},
   "source": [
    "# My Jupyter Notebook on IBM Watson Studio"
   ]
  },
  {
   "cell_type": "markdown",
   "id": "7926234a-aa98-405f-81da-7956e62dc60a",
   "metadata": {},
   "source": [
    "**Sam**\n",
    "\n",
    "Data Scientist"
   ]
  },
  {
   "cell_type": "markdown",
   "id": "82f4e857-1558-43e1-abef-8ac8aafa26a6",
   "metadata": {},
   "source": [
    "*I am interested in data science because I want to use Machine learning with IOT devices*"
   ]
  },
  {
   "cell_type": "markdown",
   "id": "09038872-8252-43f0-ac43-20a33ab6683b",
   "metadata": {},
   "source": [
    "### The below code should output the remainder"
   ]
  },
  {
   "cell_type": "code",
   "execution_count": 2,
   "id": "fa127cfe-9dca-4ddf-ab24-a36cb8ee6dd4",
   "metadata": {},
   "outputs": [
    {
     "data": {
      "text/plain": [
       "1"
      ]
     },
     "execution_count": 2,
     "metadata": {},
     "output_type": "execute_result"
    }
   ],
   "source": [
    "11%2"
   ]
  },
  {
   "cell_type": "markdown",
   "id": "2f47c0bd-e02a-43dc-8bef-525809975707",
   "metadata": {},
   "source": [
    "~~strike through~~ https://en.wikipedia.org `highlighting`"
   ]
  }
 ],
 "metadata": {
  "kernelspec": {
   "display_name": "Python",
   "language": "python",
   "name": "conda-env-python-py"
  },
  "language_info": {
   "codemirror_mode": {
    "name": "ipython",
    "version": 3
   },
   "file_extension": ".py",
   "mimetype": "text/x-python",
   "name": "python",
   "nbconvert_exporter": "python",
   "pygments_lexer": "ipython3",
   "version": "3.7.12"
  }
 },
 "nbformat": 4,
 "nbformat_minor": 5
}
